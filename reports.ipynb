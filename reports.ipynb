{
 "cells": [
  {
   "cell_type": "markdown",
   "metadata": {},
   "source": [
    "# Reports"
   ]
  },
  {
   "cell_type": "code",
   "execution_count": 3,
   "metadata": {},
   "outputs": [
    {
     "name": "stdout",
     "output_type": "stream",
     "text": [
      "DIR='c:\\\\Users\\\\JGarza\\\\GitHub\\\\wifi_monitor'\n",
      "RDIR='c:\\\\Users\\\\JGarza\\\\GitHub\\\\wifi_monitor\\\\reports'\n"
     ]
    }
   ],
   "source": [
    "import os\n",
    "import re\n",
    "\n",
    "import numpy as np\n",
    "import pandas as pd\n",
    "\n",
    "# for the notebook rendering \n",
    "from IPython.display import display, HTML, FileLink, Markdown\n",
    "from IPython.display import FileLink as FL\n",
    "from IPython.display import Markdown as MD\n",
    "\n",
    "\n",
    "DIR = os.getcwd()\n",
    "print(f'{DIR=}')\n",
    "\n",
    "RDIR = os.path.join(DIR,'reports')\n",
    "print(f'{RDIR=}')"
   ]
  },
  {
   "cell_type": "code",
   "execution_count": 4,
   "metadata": {},
   "outputs": [
    {
     "name": "stdout",
     "output_type": "stream",
     "text": [
      "--------------------\n",
      "Error 404 NH\n",
      "count    500.000000\n",
      "mean      19.094000\n",
      "std       26.866872\n",
      "min        9.000000\n",
      "25%       11.000000\n",
      "50%       12.000000\n",
      "75%       15.000000\n",
      "max      279.000000\n",
      "Name: 0, dtype: float64\n",
      "\n",
      "Request timed out:\n",
      "0 out of 500\n",
      "0.0\n",
      "--------------------\n",
      "Error 404\n",
      "count    499.000000\n",
      "mean      11.430862\n",
      "std        5.030502\n",
      "min        7.000000\n",
      "25%        9.000000\n",
      "50%       10.000000\n",
      "75%       12.000000\n",
      "max       66.000000\n",
      "Name: 0, dtype: float64\n",
      "\n",
      "Request timed out:\n",
      "1 out of 500\n",
      "0.002\n",
      "--------------------\n",
      "Error 404_EXT\n",
      "count    499.000000\n",
      "mean      15.422846\n",
      "std        5.193017\n",
      "min        9.000000\n",
      "25%       13.000000\n",
      "50%       14.000000\n",
      "75%       16.000000\n",
      "max       55.000000\n",
      "Name: 0, dtype: float64\n",
      "\n",
      "Request timed out:\n",
      "1 out of 500\n",
      "0.002\n"
     ]
    }
   ],
   "source": [
    "data = {}\n",
    "\n",
    "for i in os.listdir(RDIR):\n",
    "    # print(i)\n",
    "    try:\n",
    "\n",
    "        text = ''\n",
    "        with open(os.path.join(RDIR, i), 'r') as f:\n",
    "            text = f.read()\n",
    "        # print(text)\n",
    "\n",
    "        wifi = re.findall('^SSID:.*\\n',text)[0]\n",
    "        wifi = wifi.replace('\\n', '').replace('SSID: ','')\n",
    "\n",
    "        pings = re.findall('.*time=.*\\n',text)\n",
    "        pings = [ re.sub('.*time=','',p) for p in pings]\n",
    "        pings = [ re.sub('ms.*\\n','',p) for p in pings]\n",
    "        pings = [ int(p) for p in pings]\n",
    "        # print(*pings,sep='\\n')\n",
    "\n",
    "        timeouts = re.findall('Request timed out.\\n',text)\n",
    "\n",
    "        trycount = re.findall('(Request|Reply).*\\n',text)\n",
    "\n",
    "        if wifi in data.keys():\n",
    "            pass\n",
    "        else:\n",
    "            data[wifi] = {}\n",
    "            data[wifi]['pings'] = []\n",
    "            data[wifi]['timeouts'] = []\n",
    "            data[wifi]['trycount'] = []\n",
    "        \n",
    "        data[wifi]['pings'].extend(pings)\n",
    "        data[wifi]['timeouts'].extend([len(timeouts)])\n",
    "        data[wifi]['trycount'].extend([len(trycount)])\n",
    "\n",
    "    except Exception as e:\n",
    "        pass\n",
    "        # print(i,e)\n",
    "\n",
    "for k in data.keys():\n",
    "    print('-'*20)\n",
    "    print(k)\n",
    "    df_pings = pd.DataFrame(data[k]['pings'])\n",
    "    print(df_pings[0].describe())\n",
    "    print()\n",
    "    print(f'Request timed out:')\n",
    "    print(f'{ sum(data[k]['timeouts']) } out of { sum(data[k]['trycount']) }')\n",
    "    print(f'{ sum(data[k]['timeouts']) / sum(data[k]['trycount']) }')\n",
    "    # print(f'\"Request timed out\" : { sum(data[k]['timeouts']) } out of {}')\n",
    "    # df_to = pd.DataFrame(data[k]['timeouts'])\n",
    "    # print(df_to[0].describe())\n",
    "    # print(df_to)\n"
   ]
  }
 ],
 "metadata": {
  "kernelspec": {
   "display_name": "Python 3",
   "language": "python",
   "name": "python3"
  },
  "language_info": {
   "codemirror_mode": {
    "name": "ipython",
    "version": 3
   },
   "file_extension": ".py",
   "mimetype": "text/x-python",
   "name": "python",
   "nbconvert_exporter": "python",
   "pygments_lexer": "ipython3",
   "version": "3.12.5"
  }
 },
 "nbformat": 4,
 "nbformat_minor": 2
}
